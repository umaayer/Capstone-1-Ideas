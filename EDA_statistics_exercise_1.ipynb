{
 "cells": [
  {
   "cell_type": "markdown",
   "metadata": {},
   "source": [
    "# What is the True Normal Human Body Temperature? \n",
    "\n",
    "#### Background\n",
    "\n",
    "The mean normal body temperature was held to be 37$^{\\circ}$C or 98.6$^{\\circ}$F for more than 120 years since it was first conceptualized and reported by Carl Wunderlich in a famous 1868 book. But, is this value statistically correct?"
   ]
  },
  {
   "cell_type": "markdown",
   "metadata": {},
   "source": [
    "# Import Necessary Dependencies"
   ]
  },
  {
   "cell_type": "code",
   "execution_count": 2,
   "metadata": {
    "collapsed": true
   },
   "outputs": [],
   "source": [
    "import pandas as pd\n",
    "\n",
    "df = pd.read_csv('data/human_body_temperature.csv')"
   ]
  },
  {
   "cell_type": "code",
   "execution_count": 5,
   "metadata": {
    "collapsed": true
   },
   "outputs": [],
   "source": [
    "import pandas as pd\n",
    "import matplotlib\n",
    "import matplotlib.pyplot as plt\n",
    "import pylab as pl\n",
    "%matplotlib inline\n",
    "import scipy.stats as st\n",
    "import numpy as np\n",
    "import seaborn as sns\n",
    "\n",
    "df = pd.read_csv('data/human_body_temperature.csv')\n"
   ]
  },
  {
   "cell_type": "code",
   "execution_count": 3,
   "metadata": {},
   "outputs": [
    {
     "data": {
      "text/html": [
       "<div>\n",
       "<style>\n",
       "    .dataframe thead tr:only-child th {\n",
       "        text-align: right;\n",
       "    }\n",
       "\n",
       "    .dataframe thead th {\n",
       "        text-align: left;\n",
       "    }\n",
       "\n",
       "    .dataframe tbody tr th {\n",
       "        vertical-align: top;\n",
       "    }\n",
       "</style>\n",
       "<table border=\"1\" class=\"dataframe\">\n",
       "  <thead>\n",
       "    <tr style=\"text-align: right;\">\n",
       "      <th></th>\n",
       "      <th>temperature</th>\n",
       "      <th>gender</th>\n",
       "      <th>heart_rate</th>\n",
       "    </tr>\n",
       "  </thead>\n",
       "  <tbody>\n",
       "    <tr>\n",
       "      <th>0</th>\n",
       "      <td>99.3</td>\n",
       "      <td>F</td>\n",
       "      <td>68.0</td>\n",
       "    </tr>\n",
       "    <tr>\n",
       "      <th>1</th>\n",
       "      <td>98.4</td>\n",
       "      <td>F</td>\n",
       "      <td>81.0</td>\n",
       "    </tr>\n",
       "    <tr>\n",
       "      <th>2</th>\n",
       "      <td>97.8</td>\n",
       "      <td>M</td>\n",
       "      <td>73.0</td>\n",
       "    </tr>\n",
       "    <tr>\n",
       "      <th>3</th>\n",
       "      <td>99.2</td>\n",
       "      <td>F</td>\n",
       "      <td>66.0</td>\n",
       "    </tr>\n",
       "    <tr>\n",
       "      <th>4</th>\n",
       "      <td>98.0</td>\n",
       "      <td>F</td>\n",
       "      <td>73.0</td>\n",
       "    </tr>\n",
       "  </tbody>\n",
       "</table>\n",
       "</div>"
      ],
      "text/plain": [
       "   temperature gender  heart_rate\n",
       "0         99.3      F        68.0\n",
       "1         98.4      F        81.0\n",
       "2         97.8      M        73.0\n",
       "3         99.2      F        66.0\n",
       "4         98.0      F        73.0"
      ]
     },
     "execution_count": 3,
     "metadata": {},
     "output_type": "execute_result"
    }
   ],
   "source": [
    "df.head()"
   ]
  },
  {
   "cell_type": "markdown",
   "metadata": {},
   "source": [
    "### 1. Is the distribution of body temperatures normal?\n",
    "Although this is not a requirement for the Central Limit Theorem to hold (read the introduction on Wikipedia's page about the CLT carefully: https://en.wikipedia.org/wiki/Central_limit_theorem), it gives us some peace of mind that the population may also be normally distributed if we assume that this sample is representative of the population.\n",
    "Think about the way you're going to check for the normality of the distribution. Graphical methods are usually used first, but there are also other ways: https://en.wikipedia.org/wiki/Normality_test"
   ]
  },
  {
   "cell_type": "markdown",
   "metadata": {},
   "source": [
    "### Visual Normality Checks: Graphical Distributions of the dataset can show some level of normality. Here, we see:"
   ]
  },
  {
   "cell_type": "code",
   "execution_count": 6,
   "metadata": {},
   "outputs": [
    {
     "data": {
      "text/plain": [
       "<matplotlib.axes._subplots.AxesSubplot at 0x1a0ceb5780>"
      ]
     },
     "execution_count": 6,
     "metadata": {},
     "output_type": "execute_result"
    },
    {
     "data": {
      "image/png": "[encoded data removed]",
      "text/plain": [
       "<matplotlib.figure.Figure at 0x1a0cc482b0>"
      ]
     },
     "metadata": {},
     "output_type": "display_data"
    }
   ],
   "source": [
    "sns.distplot(df['temperature'])"
   ]
  },
  {
   "cell_type": "code",
   "execution_count": 7,
   "metadata": {},
   "outputs": [
    {
     "data": {
      "text/plain": [
       "array([[<matplotlib.axes._subplots.AxesSubplot object at 0x1a15231e80>]], dtype=object)"
      ]
     },
     "execution_count": 7,
     "metadata": {},
     "output_type": "execute_result"
    },
    {
     "data": {
      "image/png": "[encoded data removed]",
      "text/plain": [
       "<matplotlib.figure.Figure at 0x1a0cc48470>"
      ]
     },
     "metadata": {},
     "output_type": "display_data"
    }
   ],
   "source": [
    "pd.DataFrame.hist(df, column='temperature')"
   ]
  },
  {
   "cell_type": "markdown",
   "metadata": {},
   "source": [
    "### Both these graphical distributions show that the data looks somewhat normally distributed. However, just to be sure, normality tests will be used to determine if the distribution is actually normal: "
   ]
  },
  {
   "cell_type": "markdown",
   "metadata": {},
   "source": [
    "By performing a normal distribution test from Scipy:\n",
    "\n",
    "Hypothesis: The distribution of temperatures is normal\n",
    "\n",
    "Null hypothesis: The distribution of temperatures is not normal "
   ]
  },
  {
   "cell_type": "code",
   "execution_count": 15,
   "metadata": {},
   "outputs": [
    {
     "data": {
      "text/plain": [
       "NormaltestResult(statistic=2.7038014333192031, pvalue=0.2587479863488254)"
      ]
     },
     "execution_count": 15,
     "metadata": {},
     "output_type": "execute_result"
    }
   ],
   "source": [
    "body_temp = df['temperature']\n",
    "st.normaltest(body_temp)"
   ]
  },
  {
   "cell_type": "markdown",
   "metadata": {},
   "source": [
    "Since the P-value is greater than 0.05, the null hypothesis can be rejected with confidence. In other words, since the null hypothesis can be rejected, our hypothesis is correct in that \n",
    "the Distribution of temperatures is normal. "
   ]
  },
  {
   "cell_type": "markdown",
   "metadata": {},
   "source": [
    "### 2. Is the sample size large? Are the observations independent?\n",
    "Remember that this is a condition for the Central Limit Theorem, and hence the statistical tests we are using, to apply."
   ]
  },
  {
   "cell_type": "code",
   "execution_count": 8,
   "metadata": {},
   "outputs": [
    {
     "data": {
      "text/plain": [
       "<bound method DataFrame.info of      temperature gender  heart_rate\n",
       "0           99.3      F        68.0\n",
       "1           98.4      F        81.0\n",
       "2           97.8      M        73.0\n",
       "3           99.2      F        66.0\n",
       "4           98.0      F        73.0\n",
       "5           99.2      M        83.0\n",
       "6           98.0      M        71.0\n",
       "7           98.8      M        78.0\n",
       "8           98.4      F        84.0\n",
       "9           98.6      F        86.0\n",
       "10          98.8      F        89.0\n",
       "11          96.7      F        62.0\n",
       "12          98.2      M        72.0\n",
       "13          98.7      F        79.0\n",
       "14          97.8      F        77.0\n",
       "15          98.8      F        83.0\n",
       "16          98.3      F        79.0\n",
       "17          98.2      M        64.0\n",
       "18          97.2      F        68.0\n",
       "19          99.4      M        70.0\n",
       "20          98.3      F        78.0\n",
       "21          98.2      M        71.0\n",
       "22          98.6      M        70.0\n",
       "23          98.4      M        68.0\n",
       "24          97.8      M        65.0\n",
       "25          98.0      F        87.0\n",
       "26          97.8      F        62.0\n",
       "27          98.2      F        69.0\n",
       "28          98.4      F        73.0\n",
       "29          98.1      M        67.0\n",
       "..           ...    ...         ...\n",
       "100         99.0      M        81.0\n",
       "101         98.5      M        68.0\n",
       "102         98.0      F        78.0\n",
       "103         99.4      F        77.0\n",
       "104         97.6      M        69.0\n",
       "105         96.7      M        71.0\n",
       "106         97.0      M        80.0\n",
       "107         98.6      M        66.0\n",
       "108         98.7      F        72.0\n",
       "109         97.3      M        69.0\n",
       "110         98.8      F        69.0\n",
       "111         98.0      F        89.0\n",
       "112         98.2      F        64.0\n",
       "113         99.1      F        74.0\n",
       "114         99.0      M        79.0\n",
       "115         98.0      M        64.0\n",
       "116        100.8      F        77.0\n",
       "117         97.8      F        71.0\n",
       "118         98.7      M        78.0\n",
       "119         98.4      F        74.0\n",
       "120         97.7      F        84.0\n",
       "121         97.9      F        68.0\n",
       "122         99.0      F        81.0\n",
       "123         97.2      F        66.0\n",
       "124         97.5      M        75.0\n",
       "125         96.3      M        70.0\n",
       "126         97.7      M        77.0\n",
       "127         98.2      F        73.0\n",
       "128         97.9      M        72.0\n",
       "129         98.7      F        59.0\n",
       "\n",
       "[130 rows x 3 columns]>"
      ]
     },
     "execution_count": 8,
     "metadata": {},
     "output_type": "execute_result"
    }
   ],
   "source": [
    "df.info"
   ]
  },
  {
   "cell_type": "markdown",
   "metadata": {},
   "source": [
    "#The dataset contains 130 values. The question asks if this number is big enough "
   ]
  },
  {
   "cell_type": "code",
   "execution_count": 18,
   "metadata": {},
   "outputs": [
    {
     "data": {
      "text/plain": [
       "130"
      ]
     },
     "execution_count": 18,
     "metadata": {},
     "output_type": "execute_result"
    }
   ],
   "source": [
    "len(df)"
   ]
  },
  {
   "cell_type": "markdown",
   "metadata": {},
   "source": [
    "The central limit theorem states that if sample size are large enough, the distribution will be approximately normal. "
   ]
  },
  {
   "cell_type": "markdown",
   "metadata": {},
   "source": [
    "### 3. Is the true population mean really 98.6 degrees F?\n",
    "First, try a bootstrap hypothesis test.\n",
    "Now, let's try frequentist statistical testing. Would you use a one-sample or two-sample test? Why?\n",
    "In this situation, is it appropriate to use the  tt  or  zz  statistic?\n",
    "Now try using the other test. How is the result be different? Why?"
   ]
  },
  {
   "cell_type": "markdown",
   "metadata": {},
   "source": [
    "A one-sample test would be used here because 98.6 degrees F is an accepted (and is assumed to be the population mean)\n",
    "\n",
    "In order to conduct a one sample t-test, we should create a hypothesis statement:\n",
    "\n",
    "Null Hypothesis: The population mean is 98.6 degrees F. [no difference in mean]\n",
    "\n",
    "Alternate hypothesis: The population mean is less than 98.6 degrees F."
   ]
  },
  {
   "cell_type": "code",
   "execution_count": 17,
   "metadata": {},
   "outputs": [
    {
     "data": {
      "text/plain": [
       "Ttest_1sampResult(statistic=-5.4548232923645195, pvalue=2.4106320415561276e-07)"
      ]
     },
     "execution_count": 17,
     "metadata": {},
     "output_type": "execute_result"
    }
   ],
   "source": [
    "st.ttest_1samp(df['temperature'], popmean=98.6)"
   ]
  },
  {
   "cell_type": "markdown",
   "metadata": {},
   "source": [
    "Every t-value has a p-value to go with it. A p-values is the probability that the results from your sample data occurred by chance. Low p-values are good and indicate that the data did not occur by chance. The p-value is 0.0000002411 (which is a very small percentage that the results happened by chance), and so we can reject the null hypothesis and the population mean is less than 98.6 degrees F. "
   ]
  },
  {
   "cell_type": "markdown",
   "metadata": {},
   "source": [
    "In this situation, even though the sample size is over 30, we do not know the standard deviation. Therefore, it is best to to use the t-test"
   ]
  },
  {
   "cell_type": "markdown",
   "metadata": {},
   "source": [
    "### 4. Draw a small sample of size 10 from the data and repeat both frequentist tests.\n",
    "Which one is the correct one to use?\n",
    "What do you notice? What does this tell you about the difference in application of the  tt  and  zz  statistic?"
   ]
  },
  {
   "cell_type": "code",
   "execution_count": null,
   "metadata": {
    "collapsed": true
   },
   "outputs": [],
   "source": []
  },
  {
   "cell_type": "markdown",
   "metadata": {},
   "source": [
    "### 5. At what temperature should we consider someone's temperature to be \"abnormal\"?\n",
    "As in the previous example, try calculating everything using the boostrap approach, as well as the frequentist approach.\n",
    "Start by computing the margin of error and confidence interval. When calculating the confidence interval, keep in mind that you should use the appropriate formula for one draw, and not N draws."
   ]
  },
  {
   "cell_type": "code",
   "execution_count": 30,
   "metadata": {},
   "outputs": [
    {
     "name": "stdout",
     "output_type": "stream",
     "text": [
      "98.24923076923078\n",
      "96.8122181854 99.6862433531\n",
      "1.4370125838276664\n"
     ]
    }
   ],
   "source": [
    "print(df.temperature.mean())\n",
    "\n",
    "low_temp, high_temp = st.norm.interval(0.95, loc=df.temperature.mean(), scale=df.temperature.std())\n",
    "\n",
    "print(low_temp, high_temp)\n",
    "\n",
    "margin_of_error = float(df.temperature.mean()- low_temp)\n",
    "print(margin_of_error)"
   ]
  },
  {
   "cell_type": "markdown",
   "metadata": {},
   "source": [
    "The numbers show that if the temperature goes lower than 96.81 or higher than 98.25, then it is considered abnormal. Also, we can say that we are 95% confident that the human body temperature is 98.25 ± 1.44 F  "
   ]
  },
  {
   "cell_type": "markdown",
   "metadata": {},
   "source": [
    "### 6. Is there a significant difference between males and females in normal temperature?\n",
    "What testing approach did you use and why?\n",
    "Write a story with your conclusion in the context of the original problem."
   ]
  },
  {
   "cell_type": "markdown",
   "metadata": {},
   "source": [
    "Because there is a difference between the mean temperatures of males and females in the sample, it is natural to ask if this difference is statistically significant. A 2-sample t-test yield a t-statistic of 2.29 (p=.024)"
   ]
  },
  {
   "cell_type": "markdown",
   "metadata": {},
   "source": [
    "Before we determine if there is a significant difference between males and females, we will figure out the sample means of both genders. "
   ]
  },
  {
   "cell_type": "code",
   "execution_count": 22,
   "metadata": {},
   "outputs": [
    {
     "name": "stdout",
     "output_type": "stream",
     "text": [
      "temperature    98.104615\n",
      "heart_rate     73.369231\n",
      "dtype: float64\n",
      "temperature    98.393846\n",
      "heart_rate     74.153846\n",
      "dtype: float64\n"
     ]
    }
   ],
   "source": [
    "male_df = df[df['gender'] == 'M']\n",
    "female_df = df[df['gender'] == 'F']\n",
    "print(male_df.mean())\n",
    "print(female_df.mean())"
   ]
  },
  {
   "cell_type": "markdown",
   "metadata": {},
   "source": [
    "We find that the mean temperature of males is around 98.10 and the mean temperature of females is around 98.39. While they seem different, the next step is to conduct a two-sample t-test to determine if male body temperatures are significantly different compared to female body temperatures. \n",
    "\n",
    "Null Hypothesis: Males and females have the same body temperature (no differencein means)\n",
    "\n",
    "Alternate hypothesis: Males and females have different body temperatures (difference in means)\n",
    "\n",
    "Test results: "
   ]
  },
  {
   "cell_type": "code",
   "execution_count": 24,
   "metadata": {},
   "outputs": [
    {
     "data": {
      "text/plain": [
       "Ttest_indResult(statistic=-2.2854345381656103, pvalue=0.023931883122395609)"
      ]
     },
     "execution_count": 24,
     "metadata": {},
     "output_type": "execute_result"
    }
   ],
   "source": [
    "st.ttest_ind(male_df['temperature'], female_df['temperature'])"
   ]
  },
  {
   "cell_type": "code",
   "execution_count": 26,
   "metadata": {},
   "outputs": [
    {
     "data": {
      "image/png": "[encoded data removed]",
      "text/plain": [
       "<matplotlib.figure.Figure at 0x1a152ce780>"
      ]
     },
     "metadata": {},
     "output_type": "display_data"
    }
   ],
   "source": [
    "sns.distplot(male_df['temperature'], label='male') \n",
    "sns.distplot(female_df['temperature'], label='female')\n",
    "plt.legend()\n",
    "plt.show()"
   ]
  },
  {
   "cell_type": "code",
   "execution_count": null,
   "metadata": {
    "collapsed": true
   },
   "outputs": [],
   "source": []
  }
 ],
 "metadata": {
  "kernelspec": {
   "display_name": "Python 3",
   "language": "python",
   "name": "python3"
  },
  "language_info": {
   "codemirror_mode": {
    "name": "ipython",
    "version": 3
   },
   "file_extension": ".py",
   "mimetype": "text/x-python",
   "name": "python",
   "nbconvert_exporter": "python",
   "pygments_lexer": "ipython3",
   "version": "3.6.3"
  }
 },
 "nbformat": 4,
 "nbformat_minor": 1
}
